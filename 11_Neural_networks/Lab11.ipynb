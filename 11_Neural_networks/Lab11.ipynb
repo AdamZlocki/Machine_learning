{
 "cells": [
  {
   "cell_type": "code",
   "execution_count": 1,
   "id": "c1194e64",
   "metadata": {},
   "outputs": [],
   "source": [
    "import numpy as np\n",
    "from keras.datasets import mnist\n",
    "import keras\n",
    "from keras import layers\n",
    "from sklearn.metrics import classification_report, confusion_matrix"
   ]
  },
  {
   "cell_type": "markdown",
   "id": "78b73495",
   "metadata": {},
   "source": [
    "### Wczytanie i konwersja danych"
   ]
  },
  {
   "cell_type": "code",
   "execution_count": 2,
   "id": "d564362e",
   "metadata": {},
   "outputs": [],
   "source": [
    "training_set, test_set = mnist.load_data()"
   ]
  },
  {
   "cell_type": "code",
   "execution_count": 3,
   "id": "09077309",
   "metadata": {},
   "outputs": [],
   "source": [
    "X_train, y_train = training_set\n",
    "X_test, y_test = test_set"
   ]
  },
  {
   "cell_type": "code",
   "execution_count": 4,
   "id": "52480d07",
   "metadata": {},
   "outputs": [
    {
     "name": "stdout",
     "output_type": "stream",
     "text": [
      "(60000, 28, 28)\n"
     ]
    }
   ],
   "source": [
    "print(X_train.shape)"
   ]
  },
  {
   "cell_type": "code",
   "execution_count": 5,
   "id": "e54a4d73",
   "metadata": {},
   "outputs": [],
   "source": [
    "X_train = np.expand_dims(X_train, -1)\n",
    "X_test = np.expand_dims(X_test, -1)"
   ]
  },
  {
   "cell_type": "code",
   "execution_count": 6,
   "id": "fd57d521",
   "metadata": {},
   "outputs": [
    {
     "name": "stdout",
     "output_type": "stream",
     "text": [
      "(60000, 28, 28, 1)\n"
     ]
    }
   ],
   "source": [
    "print(X_train.shape)"
   ]
  },
  {
   "cell_type": "code",
   "execution_count": 7,
   "id": "28e3cf10",
   "metadata": {},
   "outputs": [],
   "source": [
    "X_train = X_train.astype(float) / 255.0  \n",
    "X_test = X_test.astype(float) / 255.0"
   ]
  },
  {
   "cell_type": "markdown",
   "id": "940144d6",
   "metadata": {},
   "source": [
    "### Przygotowanie eksperymentu"
   ]
  },
  {
   "cell_type": "code",
   "execution_count": 8,
   "id": "7aba8210",
   "metadata": {},
   "outputs": [],
   "source": [
    "num_classes = 10\n",
    "input_shape = (28, 28, 1)\n",
    "batch_size = 128\n",
    "epochs = 40"
   ]
  },
  {
   "cell_type": "code",
   "execution_count": 9,
   "id": "6faec50a",
   "metadata": {},
   "outputs": [],
   "source": [
    "model = keras.Sequential(\n",
    "        [\n",
    "            keras.Input(shape=input_shape),\n",
    "            keras.layers.Flatten(),\n",
    "            layers.Dense(num_classes, activation=\"softmax\")\n",
    "        ]\n",
    "    )"
   ]
  },
  {
   "cell_type": "code",
   "execution_count": 10,
   "id": "c4b48fd5",
   "metadata": {},
   "outputs": [
    {
     "name": "stdout",
     "output_type": "stream",
     "text": [
      "Model: \"sequential\"\n",
      "_________________________________________________________________\n",
      " Layer (type)                Output Shape              Param #   \n",
      "=================================================================\n",
      " flatten (Flatten)           (None, 784)               0         \n",
      "                                                                 \n",
      " dense (Dense)               (None, 10)                7850      \n",
      "                                                                 \n",
      "=================================================================\n",
      "Total params: 7,850\n",
      "Trainable params: 7,850\n",
      "Non-trainable params: 0\n",
      "_________________________________________________________________\n"
     ]
    }
   ],
   "source": [
    "model.summary()"
   ]
  },
  {
   "cell_type": "code",
   "execution_count": 11,
   "id": "0476218f",
   "metadata": {},
   "outputs": [],
   "source": [
    "model.compile(loss=\"sparse_categorical_crossentropy\", optimizer=\"adam\", metrics=[\"accuracy\"])"
   ]
  },
  {
   "cell_type": "markdown",
   "id": "5282d844",
   "metadata": {},
   "source": [
    "### Uczenie modelu"
   ]
  },
  {
   "cell_type": "code",
   "execution_count": 12,
   "id": "53d3c679",
   "metadata": {},
   "outputs": [
    {
     "name": "stdout",
     "output_type": "stream",
     "text": [
      "Epoch 1/40\n",
      "375/375 [==============================] - 1s 2ms/step - loss: 0.7593 - accuracy: 0.8122 - val_loss: 0.4132 - val_accuracy: 0.8959\n",
      "Epoch 2/40\n",
      "375/375 [==============================] - 1s 2ms/step - loss: 0.3931 - accuracy: 0.8953 - val_loss: 0.3367 - val_accuracy: 0.9125\n",
      "Epoch 3/40\n",
      "375/375 [==============================] - 1s 2ms/step - loss: 0.3407 - accuracy: 0.9074 - val_loss: 0.3080 - val_accuracy: 0.9158\n",
      "Epoch 4/40\n",
      "375/375 [==============================] - 1s 2ms/step - loss: 0.3160 - accuracy: 0.9126 - val_loss: 0.2969 - val_accuracy: 0.9183\n",
      "Epoch 5/40\n",
      "375/375 [==============================] - 1s 2ms/step - loss: 0.3014 - accuracy: 0.9160 - val_loss: 0.2851 - val_accuracy: 0.9204\n",
      "Epoch 6/40\n",
      "375/375 [==============================] - 1s 2ms/step - loss: 0.2915 - accuracy: 0.9187 - val_loss: 0.2778 - val_accuracy: 0.9224\n",
      "Epoch 7/40\n",
      "375/375 [==============================] - 1s 2ms/step - loss: 0.2842 - accuracy: 0.9208 - val_loss: 0.2737 - val_accuracy: 0.9247\n",
      "Epoch 8/40\n",
      "375/375 [==============================] - 1s 2ms/step - loss: 0.2786 - accuracy: 0.9221 - val_loss: 0.2727 - val_accuracy: 0.9248\n",
      "Epoch 9/40\n",
      "375/375 [==============================] - 1s 2ms/step - loss: 0.2741 - accuracy: 0.9235 - val_loss: 0.2684 - val_accuracy: 0.9267\n",
      "Epoch 10/40\n",
      "375/375 [==============================] - 1s 2ms/step - loss: 0.2704 - accuracy: 0.9248 - val_loss: 0.2658 - val_accuracy: 0.9277\n",
      "Epoch 11/40\n",
      "375/375 [==============================] - 1s 2ms/step - loss: 0.2673 - accuracy: 0.9251 - val_loss: 0.2653 - val_accuracy: 0.9277\n",
      "Epoch 12/40\n",
      "375/375 [==============================] - 1s 2ms/step - loss: 0.2642 - accuracy: 0.9269 - val_loss: 0.2648 - val_accuracy: 0.9272\n",
      "Epoch 13/40\n",
      "375/375 [==============================] - 1s 2ms/step - loss: 0.2621 - accuracy: 0.9272 - val_loss: 0.2628 - val_accuracy: 0.9270\n",
      "Epoch 14/40\n",
      "375/375 [==============================] - 1s 3ms/step - loss: 0.2598 - accuracy: 0.9272 - val_loss: 0.2618 - val_accuracy: 0.9283\n",
      "Epoch 15/40\n",
      "375/375 [==============================] - 1s 3ms/step - loss: 0.2577 - accuracy: 0.9285 - val_loss: 0.2603 - val_accuracy: 0.9282\n",
      "Epoch 16/40\n",
      "375/375 [==============================] - 1s 3ms/step - loss: 0.2560 - accuracy: 0.9282 - val_loss: 0.2609 - val_accuracy: 0.9290\n",
      "Epoch 17/40\n",
      "375/375 [==============================] - 1s 2ms/step - loss: 0.2547 - accuracy: 0.9288 - val_loss: 0.2621 - val_accuracy: 0.9290\n",
      "Epoch 18/40\n",
      "375/375 [==============================] - 1s 3ms/step - loss: 0.2535 - accuracy: 0.9295 - val_loss: 0.2606 - val_accuracy: 0.9299\n",
      "Epoch 19/40\n",
      "375/375 [==============================] - 1s 2ms/step - loss: 0.2519 - accuracy: 0.9299 - val_loss: 0.2588 - val_accuracy: 0.9303\n",
      "Epoch 20/40\n",
      "375/375 [==============================] - 1s 3ms/step - loss: 0.2509 - accuracy: 0.9302 - val_loss: 0.2611 - val_accuracy: 0.9299\n",
      "Epoch 21/40\n",
      "375/375 [==============================] - 1s 4ms/step - loss: 0.2493 - accuracy: 0.9305 - val_loss: 0.2592 - val_accuracy: 0.9300\n",
      "Epoch 22/40\n",
      "375/375 [==============================] - 1s 4ms/step - loss: 0.2486 - accuracy: 0.9305 - val_loss: 0.2608 - val_accuracy: 0.9293\n",
      "Epoch 23/40\n",
      "375/375 [==============================] - 1s 4ms/step - loss: 0.2475 - accuracy: 0.9315 - val_loss: 0.2594 - val_accuracy: 0.9309\n",
      "Epoch 24/40\n",
      "375/375 [==============================] - 1s 3ms/step - loss: 0.2462 - accuracy: 0.9314 - val_loss: 0.2599 - val_accuracy: 0.9302\n",
      "Epoch 25/40\n",
      "375/375 [==============================] - 1s 2ms/step - loss: 0.2456 - accuracy: 0.9311 - val_loss: 0.2595 - val_accuracy: 0.9299\n",
      "Epoch 26/40\n",
      "375/375 [==============================] - 1s 2ms/step - loss: 0.2444 - accuracy: 0.9321 - val_loss: 0.2603 - val_accuracy: 0.9302\n",
      "Epoch 27/40\n",
      "375/375 [==============================] - 1s 2ms/step - loss: 0.2439 - accuracy: 0.9323 - val_loss: 0.2582 - val_accuracy: 0.9317\n",
      "Epoch 28/40\n",
      "375/375 [==============================] - 1s 2ms/step - loss: 0.2428 - accuracy: 0.9322 - val_loss: 0.2591 - val_accuracy: 0.9307\n",
      "Epoch 29/40\n",
      "375/375 [==============================] - 1s 2ms/step - loss: 0.2421 - accuracy: 0.9333 - val_loss: 0.2598 - val_accuracy: 0.9305\n",
      "Epoch 30/40\n",
      "375/375 [==============================] - 1s 2ms/step - loss: 0.2415 - accuracy: 0.9327 - val_loss: 0.2592 - val_accuracy: 0.9302\n",
      "Epoch 31/40\n",
      "375/375 [==============================] - 1s 2ms/step - loss: 0.2407 - accuracy: 0.9332 - val_loss: 0.2607 - val_accuracy: 0.9308\n",
      "Epoch 32/40\n",
      "375/375 [==============================] - 1s 2ms/step - loss: 0.2397 - accuracy: 0.9339 - val_loss: 0.2603 - val_accuracy: 0.9295\n",
      "Epoch 33/40\n",
      "375/375 [==============================] - 1s 2ms/step - loss: 0.2398 - accuracy: 0.9337 - val_loss: 0.2604 - val_accuracy: 0.9307\n",
      "Epoch 34/40\n",
      "375/375 [==============================] - 1s 2ms/step - loss: 0.2391 - accuracy: 0.9341 - val_loss: 0.2595 - val_accuracy: 0.9314\n",
      "Epoch 35/40\n",
      "375/375 [==============================] - 1s 2ms/step - loss: 0.2383 - accuracy: 0.9344 - val_loss: 0.2621 - val_accuracy: 0.9308\n",
      "Epoch 36/40\n",
      "375/375 [==============================] - 1s 2ms/step - loss: 0.2380 - accuracy: 0.9334 - val_loss: 0.2627 - val_accuracy: 0.9299\n",
      "Epoch 37/40\n",
      "375/375 [==============================] - 1s 2ms/step - loss: 0.2372 - accuracy: 0.9339 - val_loss: 0.2607 - val_accuracy: 0.9312\n",
      "Epoch 38/40\n",
      "375/375 [==============================] - 1s 2ms/step - loss: 0.2371 - accuracy: 0.9344 - val_loss: 0.2606 - val_accuracy: 0.9309\n",
      "Epoch 39/40\n",
      "375/375 [==============================] - 1s 2ms/step - loss: 0.2364 - accuracy: 0.9349 - val_loss: 0.2622 - val_accuracy: 0.9298\n",
      "Epoch 40/40\n",
      "375/375 [==============================] - 1s 2ms/step - loss: 0.2362 - accuracy: 0.9344 - val_loss: 0.2603 - val_accuracy: 0.9315\n"
     ]
    },
    {
     "data": {
      "text/plain": [
       "<keras.callbacks.History at 0x231488e7700>"
      ]
     },
     "execution_count": 12,
     "metadata": {},
     "output_type": "execute_result"
    }
   ],
   "source": [
    "model.fit(X_train, y_train, batch_size=batch_size, epochs=epochs, validation_split=0.2)"
   ]
  },
  {
   "cell_type": "markdown",
   "id": "23de5d90",
   "metadata": {},
   "source": [
    "### Ocena modelu"
   ]
  },
  {
   "cell_type": "code",
   "execution_count": 13,
   "id": "927b3301",
   "metadata": {},
   "outputs": [],
   "source": [
    "from sklearn.metrics import classification_report, confusion_matrix"
   ]
  },
  {
   "cell_type": "code",
   "execution_count": 14,
   "id": "fc9013d2",
   "metadata": {},
   "outputs": [
    {
     "name": "stdout",
     "output_type": "stream",
     "text": [
      "313/313 [==============================] - 0s 1ms/step\n"
     ]
    }
   ],
   "source": [
    "y_probab = model.predict(X_test)\n",
    "y_pred = np.argmax(y_probab, axis=1)"
   ]
  },
  {
   "cell_type": "code",
   "execution_count": 15,
   "id": "90d8c5e3",
   "metadata": {},
   "outputs": [
    {
     "name": "stdout",
     "output_type": "stream",
     "text": [
      "              precision    recall  f1-score   support\n",
      "\n",
      "           0       0.96      0.98      0.97       980\n",
      "           1       0.97      0.98      0.98      1135\n",
      "           2       0.93      0.90      0.92      1032\n",
      "           3       0.91      0.91      0.91      1010\n",
      "           4       0.95      0.93      0.94       982\n",
      "           5       0.91      0.87      0.89       892\n",
      "           6       0.94      0.95      0.95       958\n",
      "           7       0.94      0.92      0.93      1028\n",
      "           8       0.88      0.90      0.89       974\n",
      "           9       0.90      0.93      0.91      1009\n",
      "\n",
      "    accuracy                           0.93     10000\n",
      "   macro avg       0.93      0.93      0.93     10000\n",
      "weighted avg       0.93      0.93      0.93     10000\n",
      "\n",
      "[[ 960    0    0    2    1    7    7    2    1    0]\n",
      " [   0 1114    3    3    0    1    3    2    9    0]\n",
      " [   4    9  932   16    6    3   14   10   35    3]\n",
      " [   3    0   19  918    0   24    2   11   24    9]\n",
      " [   1    1    7    1  909    0   10    4    7   42]\n",
      " [   8    2    3   35    5  776   15    8   33    7]\n",
      " [  10    3    9    1    7   11  914    1    2    0]\n",
      " [   1    6   23    6    5    1    0  950    2   34]\n",
      " [   7    5    8   17    7   24    9    8  878   11]\n",
      " [  11    7    1    8   17    7    0   17    7  934]]\n"
     ]
    }
   ],
   "source": [
    "print(classification_report(y_test, y_pred))\n",
    "print(confusion_matrix(y_test, y_pred))"
   ]
  },
  {
   "cell_type": "markdown",
   "id": "d9c79c6f",
   "metadata": {},
   "source": [
    "### Uczenie modeli nieliniowych\n",
    "#### a)"
   ]
  },
  {
   "cell_type": "code",
   "execution_count": 16,
   "id": "5126d33d",
   "metadata": {},
   "outputs": [
    {
     "name": "stdout",
     "output_type": "stream",
     "text": [
      "Model: \"sequential_1\"\n",
      "_________________________________________________________________\n",
      " Layer (type)                Output Shape              Param #   \n",
      "=================================================================\n",
      " flatten_1 (Flatten)         (None, 784)               0         \n",
      "                                                                 \n",
      " dense_1 (Dense)             (None, 64)                50240     \n",
      "                                                                 \n",
      " dense_2 (Dense)             (None, 128)               8320      \n",
      "                                                                 \n",
      " dense_3 (Dense)             (None, 10)                1290      \n",
      "                                                                 \n",
      "=================================================================\n",
      "Total params: 59,850\n",
      "Trainable params: 59,850\n",
      "Non-trainable params: 0\n",
      "_________________________________________________________________\n",
      "Epoch 1/30\n",
      "375/375 [==============================] - 1s 3ms/step - loss: 0.4134 - accuracy: 0.8841 - val_loss: 0.2231 - val_accuracy: 0.9366\n",
      "Epoch 2/30\n",
      "375/375 [==============================] - 1s 2ms/step - loss: 0.1965 - accuracy: 0.9414 - val_loss: 0.1733 - val_accuracy: 0.9501\n",
      "Epoch 3/30\n",
      "375/375 [==============================] - 1s 2ms/step - loss: 0.1430 - accuracy: 0.9575 - val_loss: 0.1410 - val_accuracy: 0.9597\n",
      "Epoch 4/30\n",
      "375/375 [==============================] - 1s 2ms/step - loss: 0.1101 - accuracy: 0.9678 - val_loss: 0.1227 - val_accuracy: 0.9622\n",
      "Epoch 5/30\n",
      "375/375 [==============================] - 1s 2ms/step - loss: 0.0890 - accuracy: 0.9734 - val_loss: 0.1186 - val_accuracy: 0.9633\n",
      "Epoch 6/30\n",
      "375/375 [==============================] - 1s 2ms/step - loss: 0.0740 - accuracy: 0.9772 - val_loss: 0.1114 - val_accuracy: 0.9676\n",
      "Epoch 7/30\n",
      "375/375 [==============================] - 1s 2ms/step - loss: 0.0607 - accuracy: 0.9819 - val_loss: 0.1122 - val_accuracy: 0.9649\n",
      "Epoch 8/30\n",
      "375/375 [==============================] - 1s 2ms/step - loss: 0.0505 - accuracy: 0.9850 - val_loss: 0.1076 - val_accuracy: 0.9676\n",
      "Epoch 9/30\n",
      "375/375 [==============================] - 1s 3ms/step - loss: 0.0422 - accuracy: 0.9875 - val_loss: 0.1012 - val_accuracy: 0.9718\n",
      "Epoch 10/30\n",
      "375/375 [==============================] - 1s 2ms/step - loss: 0.0363 - accuracy: 0.9895 - val_loss: 0.1013 - val_accuracy: 0.9696\n",
      "Epoch 11/30\n",
      "375/375 [==============================] - 1s 2ms/step - loss: 0.0294 - accuracy: 0.9916 - val_loss: 0.1081 - val_accuracy: 0.9690\n",
      "Epoch 12/30\n",
      "375/375 [==============================] - 1s 2ms/step - loss: 0.0253 - accuracy: 0.9929 - val_loss: 0.1092 - val_accuracy: 0.9681\n",
      "Epoch 13/30\n",
      "375/375 [==============================] - 1s 2ms/step - loss: 0.0205 - accuracy: 0.9942 - val_loss: 0.1078 - val_accuracy: 0.9701\n",
      "Epoch 14/30\n",
      "375/375 [==============================] - 1s 3ms/step - loss: 0.0171 - accuracy: 0.9954 - val_loss: 0.1117 - val_accuracy: 0.9689\n",
      "Epoch 15/30\n",
      "375/375 [==============================] - 1s 3ms/step - loss: 0.0141 - accuracy: 0.9965 - val_loss: 0.1166 - val_accuracy: 0.9678\n",
      "Epoch 16/30\n",
      "375/375 [==============================] - 1s 3ms/step - loss: 0.0117 - accuracy: 0.9970 - val_loss: 0.1210 - val_accuracy: 0.9692\n",
      "Epoch 17/30\n",
      "375/375 [==============================] - 1s 3ms/step - loss: 0.0115 - accuracy: 0.9969 - val_loss: 0.1322 - val_accuracy: 0.9678\n",
      "Epoch 18/30\n",
      "375/375 [==============================] - 1s 3ms/step - loss: 0.0096 - accuracy: 0.9974 - val_loss: 0.1264 - val_accuracy: 0.9700\n",
      "Epoch 19/30\n",
      "375/375 [==============================] - 1s 4ms/step - loss: 0.0078 - accuracy: 0.9982 - val_loss: 0.1204 - val_accuracy: 0.9722\n",
      "Epoch 20/30\n",
      "375/375 [==============================] - 1s 3ms/step - loss: 0.0051 - accuracy: 0.9991 - val_loss: 0.1247 - val_accuracy: 0.9707\n",
      "Epoch 21/30\n",
      "375/375 [==============================] - 2s 4ms/step - loss: 0.0079 - accuracy: 0.9980 - val_loss: 0.1318 - val_accuracy: 0.9692\n",
      "Epoch 22/30\n",
      "375/375 [==============================] - 2s 5ms/step - loss: 0.0078 - accuracy: 0.9978 - val_loss: 0.1405 - val_accuracy: 0.9697\n",
      "Epoch 23/30\n",
      "375/375 [==============================] - 2s 5ms/step - loss: 0.0056 - accuracy: 0.9986 - val_loss: 0.1376 - val_accuracy: 0.9717\n",
      "Epoch 24/30\n",
      "375/375 [==============================] - 1s 3ms/step - loss: 0.0038 - accuracy: 0.9992 - val_loss: 0.1383 - val_accuracy: 0.9700\n",
      "Epoch 25/30\n",
      "375/375 [==============================] - 1s 3ms/step - loss: 0.0029 - accuracy: 0.9995 - val_loss: 0.1527 - val_accuracy: 0.9695\n",
      "Epoch 26/30\n",
      "375/375 [==============================] - 1s 3ms/step - loss: 0.0110 - accuracy: 0.9967 - val_loss: 0.1552 - val_accuracy: 0.9691\n",
      "Epoch 27/30\n",
      "375/375 [==============================] - 1s 3ms/step - loss: 0.0054 - accuracy: 0.9984 - val_loss: 0.1416 - val_accuracy: 0.9711\n",
      "Epoch 28/30\n",
      "375/375 [==============================] - 1s 3ms/step - loss: 0.0021 - accuracy: 0.9996 - val_loss: 0.1428 - val_accuracy: 0.9712\n",
      "Epoch 29/30\n",
      "375/375 [==============================] - 1s 3ms/step - loss: 0.0015 - accuracy: 0.9998 - val_loss: 0.1386 - val_accuracy: 0.9728\n",
      "Epoch 30/30\n",
      "375/375 [==============================] - 1s 3ms/step - loss: 5.7957e-04 - accuracy: 1.0000 - val_loss: 0.1393 - val_accuracy: 0.9727\n",
      "313/313 [==============================] - 0s 1ms/step\n",
      "              precision    recall  f1-score   support\n",
      "\n",
      "           0       0.97      0.99      0.98       980\n",
      "           1       0.99      0.99      0.99      1135\n",
      "           2       0.97      0.97      0.97      1032\n",
      "           3       0.96      0.98      0.97      1010\n",
      "           4       0.98      0.97      0.98       982\n",
      "           5       0.97      0.97      0.97       892\n",
      "           6       0.97      0.98      0.97       958\n",
      "           7       0.98      0.97      0.97      1028\n",
      "           8       0.97      0.96      0.97       974\n",
      "           9       0.97      0.96      0.97      1009\n",
      "\n",
      "    accuracy                           0.97     10000\n",
      "   macro avg       0.97      0.97      0.97     10000\n",
      "weighted avg       0.97      0.97      0.97     10000\n",
      "\n",
      "[[ 966    0    2    1    1    3    4    1    2    0]\n",
      " [   0 1125    2    3    0    1    3    0    1    0]\n",
      " [   6    1 1000    6    1    0    6    5    5    2]\n",
      " [   1    0    4  988    1    6    0    5    4    1]\n",
      " [   0    0    1    1  956    2    7    1    2   12]\n",
      " [   4    0    0   13    1  861    6    0    5    2]\n",
      " [   7    3    1    1    3    4  936    0    2    1]\n",
      " [   1    6   11    2    1    1    0  996    2    8]\n",
      " [   4    0    7    8    4    6    2    3  936    4]\n",
      " [   3    4    1   10    8    3    0    7    1  972]]\n"
     ]
    }
   ],
   "source": [
    "num_classes = 10\n",
    "input_shape = (28, 28, 1)\n",
    "batch_size = 128\n",
    "epochs = 30\n",
    "\n",
    "model = keras.Sequential(\n",
    "        [\n",
    "            keras.Input(shape=input_shape),\n",
    "            keras.layers.Flatten(),\n",
    "            layers.Dense(64, activation=\"tanh\"),\n",
    "            layers.Dense(128, activation=\"tanh\"),\n",
    "            layers.Dense(num_classes, activation=\"softmax\")\n",
    "        ]\n",
    "    )\n",
    "model.summary()\n",
    "model.compile(loss=\"sparse_categorical_crossentropy\", optimizer=\"adam\", metrics=[\"accuracy\"])\n",
    "model.fit(X_train, y_train, batch_size=batch_size, epochs=epochs, validation_split=0.2)\n",
    "y_probab = model.predict(X_test)\n",
    "y_pred = np.argmax(y_probab, axis=1)\n",
    "\n",
    "print(classification_report(y_test, y_pred))\n",
    "print(confusion_matrix(y_test, y_pred))"
   ]
  },
  {
   "cell_type": "markdown",
   "id": "2a91e841",
   "metadata": {},
   "source": [
    "#### b)"
   ]
  },
  {
   "cell_type": "code",
   "execution_count": 17,
   "id": "a87f156c",
   "metadata": {},
   "outputs": [
    {
     "name": "stdout",
     "output_type": "stream",
     "text": [
      "Model: \"sequential_2\"\n",
      "_________________________________________________________________\n",
      " Layer (type)                Output Shape              Param #   \n",
      "=================================================================\n",
      " conv2d (Conv2D)             (None, 26, 26, 32)        320       \n",
      "                                                                 \n",
      " max_pooling2d (MaxPooling2D  (None, 13, 13, 32)       0         \n",
      " )                                                               \n",
      "                                                                 \n",
      " conv2d_1 (Conv2D)           (None, 11, 11, 64)        18496     \n",
      "                                                                 \n",
      " max_pooling2d_1 (MaxPooling  (None, 5, 5, 64)         0         \n",
      " 2D)                                                             \n",
      "                                                                 \n",
      " flatten_2 (Flatten)         (None, 1600)              0         \n",
      "                                                                 \n",
      " dropout (Dropout)           (None, 1600)              0         \n",
      "                                                                 \n",
      " dense_4 (Dense)             (None, 10)                16010     \n",
      "                                                                 \n",
      "=================================================================\n",
      "Total params: 34,826\n",
      "Trainable params: 34,826\n",
      "Non-trainable params: 0\n",
      "_________________________________________________________________\n",
      "Epoch 1/30\n",
      "375/375 [==============================] - 13s 34ms/step - loss: 0.4106 - accuracy: 0.8738 - val_loss: 0.1103 - val_accuracy: 0.9690\n",
      "Epoch 2/30\n",
      "375/375 [==============================] - 13s 34ms/step - loss: 0.1253 - accuracy: 0.9622 - val_loss: 0.0707 - val_accuracy: 0.9807\n",
      "Epoch 3/30\n",
      "375/375 [==============================] - 13s 34ms/step - loss: 0.0928 - accuracy: 0.9713 - val_loss: 0.0593 - val_accuracy: 0.9833\n",
      "Epoch 4/30\n",
      "375/375 [==============================] - 13s 34ms/step - loss: 0.0754 - accuracy: 0.9771 - val_loss: 0.0512 - val_accuracy: 0.9849\n",
      "Epoch 5/30\n",
      "375/375 [==============================] - 13s 34ms/step - loss: 0.0656 - accuracy: 0.9793 - val_loss: 0.0429 - val_accuracy: 0.9877\n",
      "Epoch 6/30\n",
      "375/375 [==============================] - 13s 34ms/step - loss: 0.0571 - accuracy: 0.9824 - val_loss: 0.0443 - val_accuracy: 0.9871\n",
      "Epoch 7/30\n",
      "375/375 [==============================] - 13s 34ms/step - loss: 0.0533 - accuracy: 0.9836 - val_loss: 0.0422 - val_accuracy: 0.9872\n",
      "Epoch 8/30\n",
      "375/375 [==============================] - 13s 34ms/step - loss: 0.0487 - accuracy: 0.9845 - val_loss: 0.0381 - val_accuracy: 0.9886\n",
      "Epoch 9/30\n",
      "375/375 [==============================] - 13s 34ms/step - loss: 0.0459 - accuracy: 0.9863 - val_loss: 0.0372 - val_accuracy: 0.9891\n",
      "Epoch 10/30\n",
      "375/375 [==============================] - 13s 34ms/step - loss: 0.0442 - accuracy: 0.9861 - val_loss: 0.0371 - val_accuracy: 0.9892\n",
      "Epoch 11/30\n",
      "375/375 [==============================] - 13s 34ms/step - loss: 0.0420 - accuracy: 0.9862 - val_loss: 0.0345 - val_accuracy: 0.9894\n",
      "Epoch 12/30\n",
      "375/375 [==============================] - 13s 34ms/step - loss: 0.0383 - accuracy: 0.9875 - val_loss: 0.0379 - val_accuracy: 0.9882\n",
      "Epoch 13/30\n",
      "375/375 [==============================] - 13s 34ms/step - loss: 0.0369 - accuracy: 0.9886 - val_loss: 0.0324 - val_accuracy: 0.9906\n",
      "Epoch 14/30\n",
      "375/375 [==============================] - 13s 34ms/step - loss: 0.0362 - accuracy: 0.9882 - val_loss: 0.0328 - val_accuracy: 0.9907\n",
      "Epoch 15/30\n",
      "375/375 [==============================] - 13s 34ms/step - loss: 0.0341 - accuracy: 0.9890 - val_loss: 0.0328 - val_accuracy: 0.9910\n",
      "Epoch 16/30\n",
      "375/375 [==============================] - 13s 34ms/step - loss: 0.0322 - accuracy: 0.9899 - val_loss: 0.0325 - val_accuracy: 0.9908\n",
      "Epoch 17/30\n",
      "375/375 [==============================] - 13s 34ms/step - loss: 0.0310 - accuracy: 0.9896 - val_loss: 0.0322 - val_accuracy: 0.9910\n",
      "Epoch 18/30\n",
      "375/375 [==============================] - 13s 34ms/step - loss: 0.0296 - accuracy: 0.9900 - val_loss: 0.0315 - val_accuracy: 0.9908\n",
      "Epoch 19/30\n",
      "375/375 [==============================] - 13s 34ms/step - loss: 0.0287 - accuracy: 0.9903 - val_loss: 0.0315 - val_accuracy: 0.9907\n",
      "Epoch 20/30\n",
      "375/375 [==============================] - 13s 34ms/step - loss: 0.0270 - accuracy: 0.9906 - val_loss: 0.0310 - val_accuracy: 0.9918\n",
      "Epoch 21/30\n",
      "375/375 [==============================] - 13s 34ms/step - loss: 0.0264 - accuracy: 0.9910 - val_loss: 0.0310 - val_accuracy: 0.9916\n",
      "Epoch 22/30\n",
      "375/375 [==============================] - 13s 34ms/step - loss: 0.0259 - accuracy: 0.9911 - val_loss: 0.0349 - val_accuracy: 0.9901\n",
      "Epoch 23/30\n",
      "375/375 [==============================] - 13s 34ms/step - loss: 0.0251 - accuracy: 0.9919 - val_loss: 0.0296 - val_accuracy: 0.9916\n",
      "Epoch 24/30\n",
      "375/375 [==============================] - 13s 34ms/step - loss: 0.0247 - accuracy: 0.9923 - val_loss: 0.0292 - val_accuracy: 0.9924\n",
      "Epoch 25/30\n",
      "375/375 [==============================] - 13s 34ms/step - loss: 0.0236 - accuracy: 0.9924 - val_loss: 0.0298 - val_accuracy: 0.9927\n",
      "Epoch 26/30\n",
      "375/375 [==============================] - 13s 34ms/step - loss: 0.0221 - accuracy: 0.9924 - val_loss: 0.0305 - val_accuracy: 0.9913\n",
      "Epoch 27/30\n",
      "375/375 [==============================] - 13s 34ms/step - loss: 0.0227 - accuracy: 0.9920 - val_loss: 0.0304 - val_accuracy: 0.9917\n",
      "Epoch 28/30\n",
      "375/375 [==============================] - 13s 34ms/step - loss: 0.0231 - accuracy: 0.9922 - val_loss: 0.0273 - val_accuracy: 0.9929\n",
      "Epoch 29/30\n",
      "375/375 [==============================] - 13s 34ms/step - loss: 0.0202 - accuracy: 0.9930 - val_loss: 0.0270 - val_accuracy: 0.9931\n",
      "Epoch 30/30\n",
      "375/375 [==============================] - 13s 34ms/step - loss: 0.0196 - accuracy: 0.9932 - val_loss: 0.0284 - val_accuracy: 0.9927\n",
      "313/313 [==============================] - 1s 4ms/step\n",
      "              precision    recall  f1-score   support\n",
      "\n",
      "           0       1.00      1.00      1.00       980\n",
      "           1       0.99      1.00      1.00      1135\n",
      "           2       1.00      0.99      0.99      1032\n",
      "           3       1.00      0.99      1.00      1010\n",
      "           4       0.99      0.99      0.99       982\n",
      "           5       0.99      0.99      0.99       892\n",
      "           6       1.00      0.99      0.99       958\n",
      "           7       0.99      0.99      0.99      1028\n",
      "           8       0.99      1.00      1.00       974\n",
      "           9       0.99      0.99      0.99      1009\n",
      "\n",
      "    accuracy                           0.99     10000\n",
      "   macro avg       0.99      0.99      0.99     10000\n",
      "weighted avg       0.99      0.99      0.99     10000\n",
      "\n",
      "[[ 978    1    0    0    0    0    0    1    0    0]\n",
      " [   0 1134    0    0    0    0    1    0    0    0]\n",
      " [   0    2 1024    0    1    0    0    5    0    0]\n",
      " [   0    0    1 1004    0    3    0    1    1    0]\n",
      " [   0    0    0    0  976    0    1    1    1    3]\n",
      " [   0    0    0    4    0  886    1    1    0    0]\n",
      " [   2    3    0    0    1    3  948    0    1    0]\n",
      " [   0    4    3    0    0    0    0 1019    1    1]\n",
      " [   1    0    1    0    0    1    0    0  970    1]\n",
      " [   1    0    0    0    3    4    1    4    1  995]]\n"
     ]
    }
   ],
   "source": [
    "num_classes = 10\n",
    "input_shape = (28, 28, 1)\n",
    "batch_size = 128\n",
    "epochs = 30\n",
    "\n",
    "model = keras.Sequential(\n",
    "        [\n",
    "            keras.Input(shape=input_shape),\n",
    "            layers.Conv2D(32, kernel_size=(3, 3), activation=\"relu\"),\n",
    "            layers.MaxPooling2D(pool_size=(2, 2)),\n",
    "            layers.Conv2D(64, kernel_size=(3, 3), activation=\"relu\"),\n",
    "            layers.MaxPooling2D(pool_size=(2, 2)),\n",
    "            layers.Flatten(),\n",
    "            layers.Dropout(0.5),\n",
    "            layers.Dense(num_classes, activation=\"softmax\"),\n",
    "        ]\n",
    "    )\n",
    "model.summary()\n",
    "model.compile(loss=\"sparse_categorical_crossentropy\", optimizer=\"adam\", metrics=[\"accuracy\"])\n",
    "model.fit(X_train, y_train, batch_size=batch_size, epochs=epochs, validation_split=0.2)\n",
    "y_probab = model.predict(X_test)\n",
    "y_pred = np.argmax(y_probab, axis=1)\n",
    "\n",
    "print(classification_report(y_test, y_pred))\n",
    "print(confusion_matrix(y_test, y_pred))"
   ]
  },
  {
   "cell_type": "code",
   "execution_count": null,
   "id": "e8f5143b",
   "metadata": {},
   "outputs": [],
   "source": []
  }
 ],
 "metadata": {
  "kernelspec": {
   "display_name": "Python 3 (ipykernel)",
   "language": "python",
   "name": "python3"
  },
  "language_info": {
   "codemirror_mode": {
    "name": "ipython",
    "version": 3
   },
   "file_extension": ".py",
   "mimetype": "text/x-python",
   "name": "python",
   "nbconvert_exporter": "python",
   "pygments_lexer": "ipython3",
   "version": "3.8.8"
  }
 },
 "nbformat": 4,
 "nbformat_minor": 5
}
